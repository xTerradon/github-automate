{
 "cells": [
  {
   "cell_type": "code",
   "execution_count": 33,
   "metadata": {},
   "outputs": [],
   "source": [
    "import os"
   ]
  },
  {
   "cell_type": "code",
   "execution_count": 34,
   "metadata": {},
   "outputs": [],
   "source": [
    "%run webdriver_handler.ipynb"
   ]
  },
  {
   "cell_type": "code",
   "execution_count": 35,
   "metadata": {},
   "outputs": [],
   "source": [
    "wh = Webdriver_Handler()\n",
    "try:\n",
    "    password = os.environ[\"LOGIN_PASSWORD\"]\n",
    "except:\n",
    "    print(\"LOGIN_PASSWORD environment variable not set.\")\n",
    "    password = input(\"Please enter your password: \")\n",
    "wh.login(\"l-b-n.02@gmx.de\", password)\n"
   ]
  },
  {
   "cell_type": "code",
   "execution_count": 39,
   "metadata": {},
   "outputs": [
    {
     "name": "stdout",
     "output_type": "stream",
     "text": [
      "Logged in as Quantum with 322 reputation\n",
      "['https://stackoverflow.com/questions/76504773/microsoft-bot-framework-python-sometimes-i-get-a-unauthorized-error-when-u', 'https://stackoverflow.com/questions/76504769/unable-to-change-the-font-size-of-mdtextfield-relative-to-fit-in-the-screen-on-f', 'https://stackoverflow.com/questions/76504760/idle-time-detection-using-python-gives-incorrect-output-when-computer-runs-for-m', 'https://stackoverflow.com/questions/76504754/flask-caching-memoize-not-working-with-dash-background-callback-manager', 'https://stackoverflow.com/questions/76504709/isnull-not-working-in-django-orm-in-test-method', 'https://stackoverflow.com/questions/76504696/python-logging-yaml-config-universal-loggers-level-is-not-applied', 'https://stackoverflow.com/questions/76504667/recover-from-jsondecodeerror', 'https://stackoverflow.com/questions/76504659/making-a-that-enables-get-without-token-but-not-posts-without-tokens', 'https://stackoverflow.com/questions/76504653/how-to-make-a-pdf-from-an-online-ebook-that-is-displayed-page-by-page', 'https://stackoverflow.com/questions/76504640/pandas-group-by-find-the-difference-with-respect-to-flag-ids', 'https://stackoverflow.com/questions/76504624/voice-recognition-in-python', 'https://stackoverflow.com/questions/76504590/delete-text-using-file-operators-in-python', 'https://stackoverflow.com/questions/76504584/why-is-the-layoutlm-installation-fails-to-install', 'https://stackoverflow.com/questions/76504567/execvpe-on-windows-not-returning-exitvalue', 'https://stackoverflow.com/questions/76504543/python-gekko-line-break-in-equation-definition', 'https://stackoverflow.com/questions/76504538/how-to-set-jdbc-specific-properties-in-pyspark-when-connecting-to-trino-using-tr', 'https://stackoverflow.com/questions/76504515/random-integer-guessing-game-on-python-unsure-why-my-code-doesnt-run-as-expect', 'https://stackoverflow.com/questions/76504443/how-to-spread-two-widgets-in-the-same-row-to-the-extremes-of-the-window-in-tkint', 'https://stackoverflow.com/questions/76504414/format-bytes-as-hex-string', 'https://stackoverflow.com/questions/76504411/why-isnt-it-recommended-to-use-bare-http-status-codes-in-a-response', 'https://stackoverflow.com/questions/76504396/image-filtering-for-high-variance-fields', 'https://stackoverflow.com/questions/76504387/installed-tensorflow-but-running-programs-gives-error-that-says-no-module-name', 'https://stackoverflow.com/questions/76504370/is-it-possible-to-add-additional-functionality-to-retry-decorator', 'https://stackoverflow.com/questions/76504357/getting-a-403-forbidden-message-in-a-django-4-2-post-request-even-after-includin', 'https://stackoverflow.com/questions/76504339/pandas-update-multiple-rows-using-list', 'https://stackoverflow.com/questions/76504315/how-do-i-turn-this-into-1-if-statement', 'https://stackoverflow.com/questions/76504303/how-can-i-write-the-output-of-a-class-method-to-a-file-in-python', 'https://stackoverflow.com/questions/76504267/how-to-read-all-svg-file-content-as-plain-text', 'https://stackoverflow.com/questions/76504263/transforming-pygame-screen-to-show-a-line-as-bigger-on-the-screen', 'https://stackoverflow.com/questions/76504235/dtaidistance-sse-and-silhouette-score', 'https://stackoverflow.com/questions/76504208/traceback-most-recent-call-last-file-main-py-how-to-solve', 'https://stackoverflow.com/questions/76504200/how-to-groupby-all-the-objects-starts-with-of-a-dataframe-in-column', 'https://stackoverflow.com/questions/76504163/displaying-combined-webcam-feed-on-multiple-devices-using-sockets-and-opencv', 'https://stackoverflow.com/questions/76504149/can-you-make-a-value-transparent-in-a-colorbar-when-plotting-on-python', 'https://stackoverflow.com/questions/76504113/expenses-incomes-and-total-balance-calculator', 'https://stackoverflow.com/questions/76504099/paper-js-not-drawing-to-canvas', 'https://stackoverflow.com/questions/76504096/type-inference-issue-in-pylance-for-a-variable-with-multiple-type-hints', 'https://stackoverflow.com/questions/76504086/unable-to-install-flowmepy', 'https://stackoverflow.com/questions/76504082/i-want-to-create-a-table-in-my-dataset-that-extracts-the-data-from-my-bucket-of', 'https://stackoverflow.com/questions/76504071/is-it-possible-to-await-for-particular-value-in-python-pytest', 'https://stackoverflow.com/questions/76504055/python-permission-access-denied', 'https://stackoverflow.com/questions/76504039/pandas-errors-mergeerror-not-allowed-to-merge-between-different-levels', 'https://stackoverflow.com/questions/76504036/h264-gstreamer-pipeline-streaming-into-qvideowidget-periodically-freezes-when-an', 'https://stackoverflow.com/questions/76504021/opencv-blob-detection-results-differ-between-c-and-python', 'https://stackoverflow.com/questions/76504015/how-to-detect-pitch-accent-in-a-japanese-audio-file-in-nodejs', 'https://stackoverflow.com/questions/76504009/python-3-11-2-yolov8-how-save-to-own-folder', 'https://stackoverflow.com/questions/76503987/facetgrid-of-contour-plots-with-custom-z-index-information-in-seaborn', 'https://stackoverflow.com/questions/76503922/pyqt-typeerror-connect-failed-between-triggeredbool-and-on-open', 'https://stackoverflow.com/questions/76503906/python-script-called-by-webserver-does-not-execute-web-request', 'https://stackoverflow.com/questions/76503900/saving-filename-in-a-specific-format-in-python']\n",
      "0.5691621336701624\n",
      "0.8763193652076557\n",
      "Upvoted https://stackoverflow.com/questions/76504773/microsoft-bot-framework-python-sometimes-i-get-a-unauthorized-error-when-u\n",
      "0.7073620992599916\n",
      "0.7489469181170658\n",
      "Upvoted https://stackoverflow.com/questions/76504769/unable-to-change-the-font-size-of-mdtextfield-relative-to-fit-in-the-screen-on-f\n",
      "0.9378804062741758\n",
      "0.6002830557851568\n",
      "Upvoted https://stackoverflow.com/questions/76504760/idle-time-detection-using-python-gives-incorrect-output-when-computer-runs-for-m\n",
      "0.5621654789649502\n",
      "0.5445346056703984\n",
      "Upvoted https://stackoverflow.com/questions/76504754/flask-caching-memoize-not-working-with-dash-background-callback-manager\n",
      "0.952934695584534\n",
      "0.5568330562412344\n",
      "Already upvoted\n",
      "0.73401286432352\n",
      "Already upvoted\n",
      "0.7704572892590397\n",
      "Upvoted https://stackoverflow.com/questions/76504667/recover-from-jsondecodeerror\n",
      "0.6243675801946142\n",
      "0.8659150230117744\n",
      "Already upvoted\n",
      "0.8451788649090874\n",
      "Already upvoted\n",
      "0.579444972343593\n",
      "Upvoted https://stackoverflow.com/questions/76504640/pandas-group-by-find-the-difference-with-respect-to-flag-ids\n",
      "0.7705298756345073\n",
      "0.8435547199359448\n",
      "Skipping question with negative votes\n",
      "0.8089622618995453\n",
      "Already upvoted\n",
      "0.7217748743288925\n",
      "Already upvoted\n",
      "0.9132629084018571\n",
      "Already upvoted\n",
      "0.7156605769325419\n",
      "Already upvoted\n",
      "0.5727578896195586\n",
      "Already upvoted\n",
      "0.7625219673517263\n",
      "Skipping question with negative votes\n",
      "0.7303560421655921\n",
      "Upvoted https://stackoverflow.com/questions/76504443/how-to-spread-two-widgets-in-the-same-row-to-the-extremes-of-the-window-in-tkint\n",
      "0.6664664667764992\n",
      "0.6063872013944198\n",
      "Upvoted https://stackoverflow.com/questions/76504414/format-bytes-as-hex-string\n",
      "0.7843113648063076\n",
      "0.9216319798550185\n",
      "Upvoted https://stackoverflow.com/questions/76504411/why-isnt-it-recommended-to-use-bare-http-status-codes-in-a-response\n",
      "0.7588270308485703\n",
      "0.9216219227215677\n",
      "Already upvoted\n",
      "0.5464368429694408\n",
      "Already upvoted\n",
      "0.6527034237400111\n",
      "Skipping question with negative votes\n",
      "0.9929097897128698\n",
      "Already upvoted\n",
      "0.6864787978075516\n",
      "Upvoted https://stackoverflow.com/questions/76504339/pandas-update-multiple-rows-using-list\n",
      "0.7947064146227947\n",
      "0.6370323383655576\n",
      "Skipping question with negative votes\n"
     ]
    },
    {
     "ename": "KeyboardInterrupt",
     "evalue": "",
     "output_type": "error",
     "traceback": [
      "\u001b[1;31m---------------------------------------------------------------------------\u001b[0m",
      "\u001b[1;31mKeyboardInterrupt\u001b[0m                         Traceback (most recent call last)",
      "Cell \u001b[1;32mIn[39], line 2\u001b[0m\n\u001b[0;32m      1\u001b[0m \u001b[39mif\u001b[39;00m wh\u001b[39m.\u001b[39mis_logged_in():    \n\u001b[1;32m----> 2\u001b[0m     wh\u001b[39m.\u001b[39;49mupvote_questions(\u001b[39m50\u001b[39;49m)\n",
      "File \u001b[1;32m~\\AppData\\Local\\Temp\\1\\ipykernel_15912\\3795915844.py:62\u001b[0m, in \u001b[0;36mWebdriver_Handler.upvote_questions\u001b[1;34m(self, num_upvotes)\u001b[0m\n\u001b[0;32m     60\u001b[0m upvotes_given \u001b[39m=\u001b[39m \u001b[39m0\u001b[39m\n\u001b[0;32m     61\u001b[0m \u001b[39mfor\u001b[39;00m question_link \u001b[39min\u001b[39;00m question_links:\n\u001b[1;32m---> 62\u001b[0m     \u001b[39mself\u001b[39;49m\u001b[39m.\u001b[39;49mwd\u001b[39m.\u001b[39;49mget(question_link)\n\u001b[0;32m     63\u001b[0m     sleeprandom()\n\u001b[0;32m     64\u001b[0m     vote_count \u001b[39m=\u001b[39m \u001b[39mint\u001b[39m(\u001b[39mself\u001b[39m\u001b[39m.\u001b[39mwd\u001b[39m.\u001b[39mfind_element(By\u001b[39m.\u001b[39mXPATH, \u001b[39m\"\"\"\u001b[39m\u001b[39m//div[@id=\u001b[39m\u001b[39m\"\u001b[39m\u001b[39mquestion\u001b[39m\u001b[39m\"\u001b[39m\u001b[39m]/div/div/div/div[contains(@class,\u001b[39m\u001b[39m\"\u001b[39m\u001b[39mvote-count\u001b[39m\u001b[39m\"\u001b[39m\u001b[39m)]\u001b[39m\u001b[39m\"\"\"\u001b[39m)\u001b[39m.\u001b[39mtext\u001b[39m.\u001b[39mreplace(\u001b[39m\"\u001b[39m\u001b[39m \u001b[39m\u001b[39m\"\u001b[39m,\u001b[39m\"\u001b[39m\u001b[39m\"\u001b[39m))\n",
      "File \u001b[1;32mc:\\Users\\V61XNRQ\\AppData\\Local\\Programs\\Python\\Python311\\Lib\\site-packages\\selenium\\webdriver\\remote\\webdriver.py:355\u001b[0m, in \u001b[0;36mWebDriver.get\u001b[1;34m(self, url)\u001b[0m\n\u001b[0;32m    353\u001b[0m \u001b[39mdef\u001b[39;00m \u001b[39mget\u001b[39m(\u001b[39mself\u001b[39m, url: \u001b[39mstr\u001b[39m) \u001b[39m-\u001b[39m\u001b[39m>\u001b[39m \u001b[39mNone\u001b[39;00m:\n\u001b[0;32m    354\u001b[0m \u001b[39m    \u001b[39m\u001b[39m\"\"\"Loads a web page in the current browser session.\"\"\"\u001b[39;00m\n\u001b[1;32m--> 355\u001b[0m     \u001b[39mself\u001b[39;49m\u001b[39m.\u001b[39;49mexecute(Command\u001b[39m.\u001b[39;49mGET, {\u001b[39m\"\u001b[39;49m\u001b[39murl\u001b[39;49m\u001b[39m\"\u001b[39;49m: url})\n",
      "File \u001b[1;32mc:\\Users\\V61XNRQ\\AppData\\Local\\Programs\\Python\\Python311\\Lib\\site-packages\\selenium\\webdriver\\remote\\webdriver.py:344\u001b[0m, in \u001b[0;36mWebDriver.execute\u001b[1;34m(self, driver_command, params)\u001b[0m\n\u001b[0;32m    341\u001b[0m     \u001b[39melif\u001b[39;00m \u001b[39m\"\u001b[39m\u001b[39msessionId\u001b[39m\u001b[39m\"\u001b[39m \u001b[39mnot\u001b[39;00m \u001b[39min\u001b[39;00m params:\n\u001b[0;32m    342\u001b[0m         params[\u001b[39m\"\u001b[39m\u001b[39msessionId\u001b[39m\u001b[39m\"\u001b[39m] \u001b[39m=\u001b[39m \u001b[39mself\u001b[39m\u001b[39m.\u001b[39msession_id\n\u001b[1;32m--> 344\u001b[0m response \u001b[39m=\u001b[39m \u001b[39mself\u001b[39;49m\u001b[39m.\u001b[39;49mcommand_executor\u001b[39m.\u001b[39;49mexecute(driver_command, params)\n\u001b[0;32m    345\u001b[0m \u001b[39mif\u001b[39;00m response:\n\u001b[0;32m    346\u001b[0m     \u001b[39mself\u001b[39m\u001b[39m.\u001b[39merror_handler\u001b[39m.\u001b[39mcheck_response(response)\n",
      "File \u001b[1;32mc:\\Users\\V61XNRQ\\AppData\\Local\\Programs\\Python\\Python311\\Lib\\site-packages\\selenium\\webdriver\\remote\\remote_connection.py:290\u001b[0m, in \u001b[0;36mRemoteConnection.execute\u001b[1;34m(self, command, params)\u001b[0m\n\u001b[0;32m    288\u001b[0m data \u001b[39m=\u001b[39m utils\u001b[39m.\u001b[39mdump_json(params)\n\u001b[0;32m    289\u001b[0m url \u001b[39m=\u001b[39m \u001b[39mf\u001b[39m\u001b[39m\"\u001b[39m\u001b[39m{\u001b[39;00m\u001b[39mself\u001b[39m\u001b[39m.\u001b[39m_url\u001b[39m}\u001b[39;00m\u001b[39m{\u001b[39;00mpath\u001b[39m}\u001b[39;00m\u001b[39m\"\u001b[39m\n\u001b[1;32m--> 290\u001b[0m \u001b[39mreturn\u001b[39;00m \u001b[39mself\u001b[39;49m\u001b[39m.\u001b[39;49m_request(command_info[\u001b[39m0\u001b[39;49m], url, body\u001b[39m=\u001b[39;49mdata)\n",
      "File \u001b[1;32mc:\\Users\\V61XNRQ\\AppData\\Local\\Programs\\Python\\Python311\\Lib\\site-packages\\selenium\\webdriver\\remote\\remote_connection.py:311\u001b[0m, in \u001b[0;36mRemoteConnection._request\u001b[1;34m(self, method, url, body)\u001b[0m\n\u001b[0;32m    308\u001b[0m     body \u001b[39m=\u001b[39m \u001b[39mNone\u001b[39;00m\n\u001b[0;32m    310\u001b[0m \u001b[39mif\u001b[39;00m \u001b[39mself\u001b[39m\u001b[39m.\u001b[39mkeep_alive:\n\u001b[1;32m--> 311\u001b[0m     response \u001b[39m=\u001b[39m \u001b[39mself\u001b[39;49m\u001b[39m.\u001b[39;49m_conn\u001b[39m.\u001b[39;49mrequest(method, url, body\u001b[39m=\u001b[39;49mbody, headers\u001b[39m=\u001b[39;49mheaders)\n\u001b[0;32m    312\u001b[0m     statuscode \u001b[39m=\u001b[39m response\u001b[39m.\u001b[39mstatus\n\u001b[0;32m    313\u001b[0m \u001b[39melse\u001b[39;00m:\n",
      "File \u001b[1;32mc:\\Users\\V61XNRQ\\AppData\\Local\\Programs\\Python\\Python311\\Lib\\site-packages\\urllib3\\request.py:78\u001b[0m, in \u001b[0;36mRequestMethods.request\u001b[1;34m(self, method, url, fields, headers, **urlopen_kw)\u001b[0m\n\u001b[0;32m     74\u001b[0m     \u001b[39mreturn\u001b[39;00m \u001b[39mself\u001b[39m\u001b[39m.\u001b[39mrequest_encode_url(\n\u001b[0;32m     75\u001b[0m         method, url, fields\u001b[39m=\u001b[39mfields, headers\u001b[39m=\u001b[39mheaders, \u001b[39m*\u001b[39m\u001b[39m*\u001b[39murlopen_kw\n\u001b[0;32m     76\u001b[0m     )\n\u001b[0;32m     77\u001b[0m \u001b[39melse\u001b[39;00m:\n\u001b[1;32m---> 78\u001b[0m     \u001b[39mreturn\u001b[39;00m \u001b[39mself\u001b[39;49m\u001b[39m.\u001b[39;49mrequest_encode_body(\n\u001b[0;32m     79\u001b[0m         method, url, fields\u001b[39m=\u001b[39;49mfields, headers\u001b[39m=\u001b[39;49mheaders, \u001b[39m*\u001b[39;49m\u001b[39m*\u001b[39;49murlopen_kw\n\u001b[0;32m     80\u001b[0m     )\n",
      "File \u001b[1;32mc:\\Users\\V61XNRQ\\AppData\\Local\\Programs\\Python\\Python311\\Lib\\site-packages\\urllib3\\request.py:170\u001b[0m, in \u001b[0;36mRequestMethods.request_encode_body\u001b[1;34m(self, method, url, fields, headers, encode_multipart, multipart_boundary, **urlopen_kw)\u001b[0m\n\u001b[0;32m    167\u001b[0m extra_kw[\u001b[39m\"\u001b[39m\u001b[39mheaders\u001b[39m\u001b[39m\"\u001b[39m]\u001b[39m.\u001b[39mupdate(headers)\n\u001b[0;32m    168\u001b[0m extra_kw\u001b[39m.\u001b[39mupdate(urlopen_kw)\n\u001b[1;32m--> 170\u001b[0m \u001b[39mreturn\u001b[39;00m \u001b[39mself\u001b[39;49m\u001b[39m.\u001b[39;49murlopen(method, url, \u001b[39m*\u001b[39;49m\u001b[39m*\u001b[39;49mextra_kw)\n",
      "File \u001b[1;32mc:\\Users\\V61XNRQ\\AppData\\Local\\Programs\\Python\\Python311\\Lib\\site-packages\\urllib3\\poolmanager.py:376\u001b[0m, in \u001b[0;36mPoolManager.urlopen\u001b[1;34m(self, method, url, redirect, **kw)\u001b[0m\n\u001b[0;32m    374\u001b[0m     response \u001b[39m=\u001b[39m conn\u001b[39m.\u001b[39murlopen(method, url, \u001b[39m*\u001b[39m\u001b[39m*\u001b[39mkw)\n\u001b[0;32m    375\u001b[0m \u001b[39melse\u001b[39;00m:\n\u001b[1;32m--> 376\u001b[0m     response \u001b[39m=\u001b[39m conn\u001b[39m.\u001b[39;49murlopen(method, u\u001b[39m.\u001b[39;49mrequest_uri, \u001b[39m*\u001b[39;49m\u001b[39m*\u001b[39;49mkw)\n\u001b[0;32m    378\u001b[0m redirect_location \u001b[39m=\u001b[39m redirect \u001b[39mand\u001b[39;00m response\u001b[39m.\u001b[39mget_redirect_location()\n\u001b[0;32m    379\u001b[0m \u001b[39mif\u001b[39;00m \u001b[39mnot\u001b[39;00m redirect_location:\n",
      "File \u001b[1;32mc:\\Users\\V61XNRQ\\AppData\\Local\\Programs\\Python\\Python311\\Lib\\site-packages\\urllib3\\connectionpool.py:714\u001b[0m, in \u001b[0;36mHTTPConnectionPool.urlopen\u001b[1;34m(self, method, url, body, headers, retries, redirect, assert_same_host, timeout, pool_timeout, release_conn, chunked, body_pos, **response_kw)\u001b[0m\n\u001b[0;32m    711\u001b[0m     \u001b[39mself\u001b[39m\u001b[39m.\u001b[39m_prepare_proxy(conn)\n\u001b[0;32m    713\u001b[0m \u001b[39m# Make the request on the httplib connection object.\u001b[39;00m\n\u001b[1;32m--> 714\u001b[0m httplib_response \u001b[39m=\u001b[39m \u001b[39mself\u001b[39;49m\u001b[39m.\u001b[39;49m_make_request(\n\u001b[0;32m    715\u001b[0m     conn,\n\u001b[0;32m    716\u001b[0m     method,\n\u001b[0;32m    717\u001b[0m     url,\n\u001b[0;32m    718\u001b[0m     timeout\u001b[39m=\u001b[39;49mtimeout_obj,\n\u001b[0;32m    719\u001b[0m     body\u001b[39m=\u001b[39;49mbody,\n\u001b[0;32m    720\u001b[0m     headers\u001b[39m=\u001b[39;49mheaders,\n\u001b[0;32m    721\u001b[0m     chunked\u001b[39m=\u001b[39;49mchunked,\n\u001b[0;32m    722\u001b[0m )\n\u001b[0;32m    724\u001b[0m \u001b[39m# If we're going to release the connection in ``finally:``, then\u001b[39;00m\n\u001b[0;32m    725\u001b[0m \u001b[39m# the response doesn't need to know about the connection. Otherwise\u001b[39;00m\n\u001b[0;32m    726\u001b[0m \u001b[39m# it will also try to release it and we'll have a double-release\u001b[39;00m\n\u001b[0;32m    727\u001b[0m \u001b[39m# mess.\u001b[39;00m\n\u001b[0;32m    728\u001b[0m response_conn \u001b[39m=\u001b[39m conn \u001b[39mif\u001b[39;00m \u001b[39mnot\u001b[39;00m release_conn \u001b[39melse\u001b[39;00m \u001b[39mNone\u001b[39;00m\n",
      "File \u001b[1;32mc:\\Users\\V61XNRQ\\AppData\\Local\\Programs\\Python\\Python311\\Lib\\site-packages\\urllib3\\connectionpool.py:466\u001b[0m, in \u001b[0;36mHTTPConnectionPool._make_request\u001b[1;34m(self, conn, method, url, timeout, chunked, **httplib_request_kw)\u001b[0m\n\u001b[0;32m    461\u001b[0m             httplib_response \u001b[39m=\u001b[39m conn\u001b[39m.\u001b[39mgetresponse()\n\u001b[0;32m    462\u001b[0m         \u001b[39mexcept\u001b[39;00m \u001b[39mBaseException\u001b[39;00m \u001b[39mas\u001b[39;00m e:\n\u001b[0;32m    463\u001b[0m             \u001b[39m# Remove the TypeError from the exception chain in\u001b[39;00m\n\u001b[0;32m    464\u001b[0m             \u001b[39m# Python 3 (including for exceptions like SystemExit).\u001b[39;00m\n\u001b[0;32m    465\u001b[0m             \u001b[39m# Otherwise it looks like a bug in the code.\u001b[39;00m\n\u001b[1;32m--> 466\u001b[0m             six\u001b[39m.\u001b[39;49mraise_from(e, \u001b[39mNone\u001b[39;49;00m)\n\u001b[0;32m    467\u001b[0m \u001b[39mexcept\u001b[39;00m (SocketTimeout, BaseSSLError, SocketError) \u001b[39mas\u001b[39;00m e:\n\u001b[0;32m    468\u001b[0m     \u001b[39mself\u001b[39m\u001b[39m.\u001b[39m_raise_timeout(err\u001b[39m=\u001b[39me, url\u001b[39m=\u001b[39murl, timeout_value\u001b[39m=\u001b[39mread_timeout)\n",
      "File \u001b[1;32m<string>:3\u001b[0m, in \u001b[0;36mraise_from\u001b[1;34m(value, from_value)\u001b[0m\n",
      "File \u001b[1;32mc:\\Users\\V61XNRQ\\AppData\\Local\\Programs\\Python\\Python311\\Lib\\site-packages\\urllib3\\connectionpool.py:461\u001b[0m, in \u001b[0;36mHTTPConnectionPool._make_request\u001b[1;34m(self, conn, method, url, timeout, chunked, **httplib_request_kw)\u001b[0m\n\u001b[0;32m    458\u001b[0m \u001b[39mexcept\u001b[39;00m \u001b[39mTypeError\u001b[39;00m:\n\u001b[0;32m    459\u001b[0m     \u001b[39m# Python 3\u001b[39;00m\n\u001b[0;32m    460\u001b[0m     \u001b[39mtry\u001b[39;00m:\n\u001b[1;32m--> 461\u001b[0m         httplib_response \u001b[39m=\u001b[39m conn\u001b[39m.\u001b[39;49mgetresponse()\n\u001b[0;32m    462\u001b[0m     \u001b[39mexcept\u001b[39;00m \u001b[39mBaseException\u001b[39;00m \u001b[39mas\u001b[39;00m e:\n\u001b[0;32m    463\u001b[0m         \u001b[39m# Remove the TypeError from the exception chain in\u001b[39;00m\n\u001b[0;32m    464\u001b[0m         \u001b[39m# Python 3 (including for exceptions like SystemExit).\u001b[39;00m\n\u001b[0;32m    465\u001b[0m         \u001b[39m# Otherwise it looks like a bug in the code.\u001b[39;00m\n\u001b[0;32m    466\u001b[0m         six\u001b[39m.\u001b[39mraise_from(e, \u001b[39mNone\u001b[39;00m)\n",
      "File \u001b[1;32mc:\\Users\\V61XNRQ\\AppData\\Local\\Programs\\Python\\Python311\\Lib\\http\\client.py:1375\u001b[0m, in \u001b[0;36mHTTPConnection.getresponse\u001b[1;34m(self)\u001b[0m\n\u001b[0;32m   1373\u001b[0m \u001b[39mtry\u001b[39;00m:\n\u001b[0;32m   1374\u001b[0m     \u001b[39mtry\u001b[39;00m:\n\u001b[1;32m-> 1375\u001b[0m         response\u001b[39m.\u001b[39;49mbegin()\n\u001b[0;32m   1376\u001b[0m     \u001b[39mexcept\u001b[39;00m \u001b[39mConnectionError\u001b[39;00m:\n\u001b[0;32m   1377\u001b[0m         \u001b[39mself\u001b[39m\u001b[39m.\u001b[39mclose()\n",
      "File \u001b[1;32mc:\\Users\\V61XNRQ\\AppData\\Local\\Programs\\Python\\Python311\\Lib\\http\\client.py:318\u001b[0m, in \u001b[0;36mHTTPResponse.begin\u001b[1;34m(self)\u001b[0m\n\u001b[0;32m    316\u001b[0m \u001b[39m# read until we get a non-100 response\u001b[39;00m\n\u001b[0;32m    317\u001b[0m \u001b[39mwhile\u001b[39;00m \u001b[39mTrue\u001b[39;00m:\n\u001b[1;32m--> 318\u001b[0m     version, status, reason \u001b[39m=\u001b[39m \u001b[39mself\u001b[39;49m\u001b[39m.\u001b[39;49m_read_status()\n\u001b[0;32m    319\u001b[0m     \u001b[39mif\u001b[39;00m status \u001b[39m!=\u001b[39m CONTINUE:\n\u001b[0;32m    320\u001b[0m         \u001b[39mbreak\u001b[39;00m\n",
      "File \u001b[1;32mc:\\Users\\V61XNRQ\\AppData\\Local\\Programs\\Python\\Python311\\Lib\\http\\client.py:279\u001b[0m, in \u001b[0;36mHTTPResponse._read_status\u001b[1;34m(self)\u001b[0m\n\u001b[0;32m    278\u001b[0m \u001b[39mdef\u001b[39;00m \u001b[39m_read_status\u001b[39m(\u001b[39mself\u001b[39m):\n\u001b[1;32m--> 279\u001b[0m     line \u001b[39m=\u001b[39m \u001b[39mstr\u001b[39m(\u001b[39mself\u001b[39m\u001b[39m.\u001b[39mfp\u001b[39m.\u001b[39mreadline(_MAXLINE \u001b[39m+\u001b[39m \u001b[39m1\u001b[39m), \u001b[39m\"\u001b[39m\u001b[39miso-8859-1\u001b[39m\u001b[39m\"\u001b[39m)\n\u001b[0;32m    280\u001b[0m     \u001b[39mif\u001b[39;00m \u001b[39mlen\u001b[39m(line) \u001b[39m>\u001b[39m _MAXLINE:\n\u001b[0;32m    281\u001b[0m         \u001b[39mraise\u001b[39;00m LineTooLong(\u001b[39m\"\u001b[39m\u001b[39mstatus line\u001b[39m\u001b[39m\"\u001b[39m)\n",
      "File \u001b[1;32mc:\\Users\\V61XNRQ\\AppData\\Local\\Programs\\Python\\Python311\\Lib\\socket.py:706\u001b[0m, in \u001b[0;36mSocketIO.readinto\u001b[1;34m(self, b)\u001b[0m\n\u001b[0;32m    704\u001b[0m \u001b[39mwhile\u001b[39;00m \u001b[39mTrue\u001b[39;00m:\n\u001b[0;32m    705\u001b[0m     \u001b[39mtry\u001b[39;00m:\n\u001b[1;32m--> 706\u001b[0m         \u001b[39mreturn\u001b[39;00m \u001b[39mself\u001b[39;49m\u001b[39m.\u001b[39;49m_sock\u001b[39m.\u001b[39;49mrecv_into(b)\n\u001b[0;32m    707\u001b[0m     \u001b[39mexcept\u001b[39;00m timeout:\n\u001b[0;32m    708\u001b[0m         \u001b[39mself\u001b[39m\u001b[39m.\u001b[39m_timeout_occurred \u001b[39m=\u001b[39m \u001b[39mTrue\u001b[39;00m\n",
      "\u001b[1;31mKeyboardInterrupt\u001b[0m: "
     ]
    }
   ],
   "source": [
    "if wh.is_logged_in():    \n",
    "    wh.upvote_questions(50)"
   ]
  }
 ],
 "metadata": {
  "kernelspec": {
   "display_name": "Python 3",
   "language": "python",
   "name": "python3"
  },
  "language_info": {
   "codemirror_mode": {
    "name": "ipython",
    "version": 3
   },
   "file_extension": ".py",
   "mimetype": "text/x-python",
   "name": "python",
   "nbconvert_exporter": "python",
   "pygments_lexer": "ipython3",
   "version": "3.11.3"
  },
  "orig_nbformat": 4
 },
 "nbformat": 4,
 "nbformat_minor": 2
}
