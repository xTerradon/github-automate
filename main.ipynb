{
 "cells": [
  {
   "cell_type": "code",
   "execution_count": null,
   "metadata": {},
   "outputs": [],
   "source": [
    "import os"
   ]
  },
  {
   "cell_type": "code",
   "execution_count": null,
   "metadata": {},
   "outputs": [],
   "source": [
    "%run webdriver_handler.ipynb"
   ]
  },
  {
   "cell_type": "code",
   "execution_count": null,
   "metadata": {},
   "outputs": [],
   "source": [
    "%run gpt_handler.ipynb"
   ]
  },
  {
   "cell_type": "code",
   "execution_count": null,
   "metadata": {},
   "outputs": [],
   "source": [
    "wh = Webdriver_Handler()\n",
    "try:\n",
    "    password = os.environ[\"LOGIN_PASSWORD\"]\n",
    "except:\n",
    "    print(\"LOGIN_PASSWORD environment variable not set.\")\n",
    "    password = input(\"Please enter your password: \")\n",
    "wh.login(\"l-b-n.02@gmx.de\", password)\n"
   ]
  },
  {
   "cell_type": "code",
   "execution_count": null,
   "metadata": {},
   "outputs": [],
   "source": [
    "if wh.is_logged_in():\n",
    "    # wh.edit_questions(1)\n",
    "    # wh.answer_questions(1, tagged=\"pandas\")\n",
    "    wh.upvote_questions(50)"
   ]
  }
 ],
 "metadata": {
  "kernelspec": {
   "display_name": "conda full311",
   "language": "python",
   "name": "full311"
  },
  "language_info": {
   "codemirror_mode": {
    "name": "ipython",
    "version": 3
   },
   "file_extension": ".py",
   "mimetype": "text/x-python",
   "name": "python",
   "nbconvert_exporter": "python",
   "pygments_lexer": "ipython3",
   "version": "3.11.4"
  },
  "orig_nbformat": 4
 },
 "nbformat": 4,
 "nbformat_minor": 2
}
