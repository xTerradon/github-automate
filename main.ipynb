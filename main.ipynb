{
 "cells": [
  {
   "cell_type": "code",
   "execution_count": 1,
   "metadata": {},
   "outputs": [],
   "source": [
    "import os"
   ]
  },
  {
   "cell_type": "code",
   "execution_count": 2,
   "metadata": {},
   "outputs": [],
   "source": [
    "%run webdriver_handler.ipynb"
   ]
  },
  {
   "cell_type": "code",
   "execution_count": 3,
   "metadata": {},
   "outputs": [],
   "source": [
    "# %run gpt_handler.ipynb"
   ]
  },
  {
   "cell_type": "code",
   "execution_count": 4,
   "metadata": {},
   "outputs": [],
   "source": [
    "wh = Webdriver_Handler()\n",
    "try:\n",
    "    password = os.environ[\"LOGIN_PASSWORD\"]\n",
    "except:\n",
    "    print(\"LOGIN_PASSWORD environment variable not set.\")\n",
    "    password = input(\"Please enter your password: \")\n",
    "wh.login(\"l-b-n.02@gmx.de\", password)"
   ]
  },
  {
   "cell_type": "code",
   "execution_count": 5,
   "metadata": {},
   "outputs": [
    {
     "name": "stdout",
     "output_type": "stream",
     "text": [
      "Logged in as Quantum with 550 reputation\n",
      "['https://stackoverflow.com/questions/76785378/how-to-change-display-orientation-from-horizontal-to-vertical-programmatically-a', 'https://stackoverflow.com/questions/76785373/firefox-not-loading-all-cookies-from-cookies-sqlite-saved-in-profile-directory', 'https://stackoverflow.com/questions/76785335/how-to-define-the-out-channel-in-nn-conv2d', 'https://stackoverflow.com/questions/76785330/loading-parquet-format-on-the-basis-of-date-or-required-size-format-from-s3', 'https://stackoverflow.com/questions/76785326/dynamic-class-selection-before-object-detection', 'https://stackoverflow.com/questions/76785315/install-python-eel-from-usb-drive', 'https://stackoverflow.com/questions/76785311/i-am-getting-error-subprocess-exited-with-error-while-installing-install-turtle', 'https://stackoverflow.com/questions/76785307/finding-code-that-change-excel-value-into-integer-linear-programming-formula', 'https://stackoverflow.com/questions/76785306/plot-label-at-each-vertex-and-intersection-of-a-hexagram-in-matplotlib', 'https://stackoverflow.com/questions/76785299/drowsiness-detection-system', 'https://stackoverflow.com/questions/76785260/python-component-import-multi-component', 'https://stackoverflow.com/questions/76785255/null-last-in-sqlalchemy-is-expanding-the-labelled-column', 'https://stackoverflow.com/questions/76785239/how-to-extract-location-from-each-hover-element', 'https://stackoverflow.com/questions/76785238/how-to-efficiently-detect-and-rename-downloaded-files-in-python', 'https://stackoverflow.com/questions/76785224/sqlalchemy-multiple-subclass-objects-inheriting-from-the-same-instance-of-base', 'https://stackoverflow.com/questions/76785192/missing-value-in-fastapi', 'https://stackoverflow.com/questions/76785179/chromedrivermanager-install-filenotfound-error', 'https://stackoverflow.com/questions/76785165/connecting-a-python-library-to-a-vb-net-application', 'https://stackoverflow.com/questions/76785160/can-we-train-a-custom-model-for-mediapipe-face-mesh-468-3d-landmarks-using-lates', 'https://stackoverflow.com/questions/76785157/cudas-on-rtx-3060-with-python', 'https://stackoverflow.com/questions/76785143/how-to-fix-this-python-telnet-code-to-send-a-command-to-a-device-a-second-time', 'https://stackoverflow.com/questions/76785114/getting-kivy-attribute-error-super-object-has-no-attribute-getattr-pyth', 'https://stackoverflow.com/questions/76785104/multiple-values-in-string-dataframe-python', 'https://stackoverflow.com/questions/76785103/turtle-module-register-shape-problem-in-python', 'https://stackoverflow.com/questions/76785082/how-to-train-a-hugging-face-pretrained-model-using-multi-gpus', 'https://stackoverflow.com/questions/76785023/i-have-a-problem-with-textinput-i-cant-access-its-contents', 'https://stackoverflow.com/questions/76784990/what-is-a-fast-and-efficient-way-to-convert-a-large-dictionary-of-data-into-a-da', 'https://stackoverflow.com/questions/76784972/automate-download-of-file-using-python-selenium-or-request-modules', 'https://stackoverflow.com/questions/76784931/training-time-for-dolly-v2-12b-on-a-custom-dataset-with-an-a10-gpu', 'https://stackoverflow.com/questions/76784883/winerror-10040-datagram-socket-error-in-udp-client-server-project', 'https://stackoverflow.com/questions/76784865/how-to-generate-non-stationary-time-series-data-using-arima-simulate', 'https://stackoverflow.com/questions/76784828/improve-pythons-requests-session-first-connexion', 'https://stackoverflow.com/questions/76784809/need-to-scrap-data-from-the-drop-down-arrow-in-a-facebook-page-where-working-h', 'https://stackoverflow.com/questions/76784803/how-to-login-to-facebook-with-selenium', 'https://stackoverflow.com/questions/76784801/i-want-each-email-to-log-in-with-one-device', 'https://stackoverflow.com/questions/76784718/python-json-implementation-bug', 'https://stackoverflow.com/questions/76784714/how-to-have-multipe-threads-write-to-a-file-at-the-same-time', 'https://stackoverflow.com/questions/76784693/access-excel-on-sharepoint-via-api-and-copy-data-to-ms-sql', 'https://stackoverflow.com/questions/76784675/disnake-py-private-voice-channel-continuation-of-work', 'https://stackoverflow.com/questions/76784673/which-numerical-method-to-use-for-integrating-functions-with-complex-ode', 'https://stackoverflow.com/questions/76784666/python-post-requests-returned-a-403-error-code', 'https://stackoverflow.com/questions/76784659/no-attribute-boostedtreesclassifier-error', 'https://stackoverflow.com/questions/76784634/jupyter-notebook-not-updating-when-using-docker-with-volumes', 'https://stackoverflow.com/questions/76784617/implement-skewed-normal-distribution-or-a-probability-density-fitting-on-the-giv', 'https://stackoverflow.com/questions/76784616/ursina-moving-entities-in-the-direction-they-are-facing', 'https://stackoverflow.com/questions/76784615/avoiding-pips-backtracking-when-installing-a-package-i-created', 'https://stackoverflow.com/questions/76784604/creating-a-python-package-that-calls-precompiled-cuda-kernels', 'https://stackoverflow.com/questions/76784602/declaring-dependencies-only-used-for-type-checking-in-python', 'https://stackoverflow.com/questions/76784567/how-to-reload-an-image-using-kivy-in-order-to-visualize-the-modification-made-on', 'https://stackoverflow.com/questions/76784532/vscode-pylance-false-positive-warnings-linux']\n",
      "Upvoted https://stackoverflow.com/questions/76785378/how-to-change-display-orientation-from-horizontal-to-vertical-programmatically-a\n",
      "Upvoted https://stackoverflow.com/questions/76785373/firefox-not-loading-all-cookies-from-cookies-sqlite-saved-in-profile-directory\n",
      "Upvoted https://stackoverflow.com/questions/76785335/how-to-define-the-out-channel-in-nn-conv2d\n",
      "Upvoted https://stackoverflow.com/questions/76785330/loading-parquet-format-on-the-basis-of-date-or-required-size-format-from-s3\n",
      "Upvoted https://stackoverflow.com/questions/76785326/dynamic-class-selection-before-object-detection\n",
      "Upvoted https://stackoverflow.com/questions/76785315/install-python-eel-from-usb-drive\n",
      "Upvoted https://stackoverflow.com/questions/76785311/i-am-getting-error-subprocess-exited-with-error-while-installing-install-turtle\n",
      "Upvoted https://stackoverflow.com/questions/76785307/finding-code-that-change-excel-value-into-integer-linear-programming-formula\n",
      "Upvoted https://stackoverflow.com/questions/76785306/plot-label-at-each-vertex-and-intersection-of-a-hexagram-in-matplotlib\n",
      "Upvoted https://stackoverflow.com/questions/76785299/drowsiness-detection-system\n",
      "Upvoted https://stackoverflow.com/questions/76785260/python-component-import-multi-component\n",
      "Upvoted https://stackoverflow.com/questions/76785255/null-last-in-sqlalchemy-is-expanding-the-labelled-column\n",
      "Upvoted https://stackoverflow.com/questions/76785239/how-to-extract-location-from-each-hover-element\n",
      "Upvoted https://stackoverflow.com/questions/76785238/how-to-efficiently-detect-and-rename-downloaded-files-in-python\n",
      "Upvoted https://stackoverflow.com/questions/76785224/sqlalchemy-multiple-subclass-objects-inheriting-from-the-same-instance-of-base\n",
      "Upvoted https://stackoverflow.com/questions/76785192/missing-value-in-fastapi\n",
      "Upvoted https://stackoverflow.com/questions/76785179/chromedrivermanager-install-filenotfound-error\n",
      "Skipping question with negative votes\n",
      "Upvoted https://stackoverflow.com/questions/76785160/can-we-train-a-custom-model-for-mediapipe-face-mesh-468-3d-landmarks-using-lates\n",
      "Upvoted https://stackoverflow.com/questions/76785157/cudas-on-rtx-3060-with-python\n",
      "Upvoted https://stackoverflow.com/questions/76785143/how-to-fix-this-python-telnet-code-to-send-a-command-to-a-device-a-second-time\n",
      "Upvoted https://stackoverflow.com/questions/76785114/getting-kivy-attribute-error-super-object-has-no-attribute-getattr-pyth\n",
      "Upvoted https://stackoverflow.com/questions/76785104/multiple-values-in-string-dataframe-python\n",
      "Upvoted https://stackoverflow.com/questions/76785103/turtle-module-register-shape-problem-in-python\n",
      "Upvoted https://stackoverflow.com/questions/76785082/how-to-train-a-hugging-face-pretrained-model-using-multi-gpus\n",
      "Upvoted https://stackoverflow.com/questions/76785023/i-have-a-problem-with-textinput-i-cant-access-its-contents\n",
      "Upvoted https://stackoverflow.com/questions/76784990/what-is-a-fast-and-efficient-way-to-convert-a-large-dictionary-of-data-into-a-da\n",
      "Upvoted https://stackoverflow.com/questions/76784972/automate-download-of-file-using-python-selenium-or-request-modules\n",
      "Upvoted https://stackoverflow.com/questions/76784931/training-time-for-dolly-v2-12b-on-a-custom-dataset-with-an-a10-gpu\n",
      "Upvoted https://stackoverflow.com/questions/76784883/winerror-10040-datagram-socket-error-in-udp-client-server-project\n",
      "Upvoted https://stackoverflow.com/questions/76784865/how-to-generate-non-stationary-time-series-data-using-arima-simulate\n",
      "Upvoted https://stackoverflow.com/questions/76784828/improve-pythons-requests-session-first-connexion\n",
      "Upvoted https://stackoverflow.com/questions/76784809/need-to-scrap-data-from-the-drop-down-arrow-in-a-facebook-page-where-working-h\n",
      "Upvoted https://stackoverflow.com/questions/76784803/how-to-login-to-facebook-with-selenium\n",
      "Upvoted https://stackoverflow.com/questions/76784801/i-want-each-email-to-log-in-with-one-device\n",
      "Upvoted https://stackoverflow.com/questions/76784718/python-json-implementation-bug\n",
      "Upvoted https://stackoverflow.com/questions/76784714/how-to-have-multipe-threads-write-to-a-file-at-the-same-time\n",
      "Upvoted https://stackoverflow.com/questions/76784693/access-excel-on-sharepoint-via-api-and-copy-data-to-ms-sql\n",
      "Upvoted https://stackoverflow.com/questions/76784675/disnake-py-private-voice-channel-continuation-of-work\n",
      "Upvoted https://stackoverflow.com/questions/76784673/which-numerical-method-to-use-for-integrating-functions-with-complex-ode\n",
      "Upvoted https://stackoverflow.com/questions/76784666/python-post-requests-returned-a-403-error-code\n",
      "Upvoted https://stackoverflow.com/questions/76784659/no-attribute-boostedtreesclassifier-error\n",
      "Upvoted https://stackoverflow.com/questions/76784634/jupyter-notebook-not-updating-when-using-docker-with-volumes\n",
      "Upvoted https://stackoverflow.com/questions/76784617/implement-skewed-normal-distribution-or-a-probability-density-fitting-on-the-giv\n",
      "Upvoted https://stackoverflow.com/questions/76784616/ursina-moving-entities-in-the-direction-they-are-facing\n",
      "Upvoted https://stackoverflow.com/questions/76784615/avoiding-pips-backtracking-when-installing-a-package-i-created\n",
      "Upvoted https://stackoverflow.com/questions/76784604/creating-a-python-package-that-calls-precompiled-cuda-kernels\n",
      "Upvoted https://stackoverflow.com/questions/76784602/declaring-dependencies-only-used-for-type-checking-in-python\n",
      "Upvoted https://stackoverflow.com/questions/76784567/how-to-reload-an-image-using-kivy-in-order-to-visualize-the-modification-made-on\n",
      "Upvoted https://stackoverflow.com/questions/76784532/vscode-pylance-false-positive-warnings-linux\n",
      "Upvoted 49 questions\n"
     ]
    }
   ],
   "source": [
    "if wh.is_logged_in():\n",
    "    # wh.edit_questions(1)\n",
    "    # wh.answer_questions(1, tagged=\"pandas\")\n",
    "    wh.upvote_questions(50)"
   ]
  }
 ],
 "metadata": {
  "kernelspec": {
   "display_name": "conda full311",
   "language": "python",
   "name": "full311"
  },
  "language_info": {
   "codemirror_mode": {
    "name": "ipython",
    "version": 3
   },
   "file_extension": ".py",
   "mimetype": "text/x-python",
   "name": "python",
   "nbconvert_exporter": "python",
   "pygments_lexer": "ipython3",
   "version": "3.11.4"
  },
  "orig_nbformat": 4
 },
 "nbformat": 4,
 "nbformat_minor": 2
}
