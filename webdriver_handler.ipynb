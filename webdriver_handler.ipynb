{
 "cells": [
  {
   "cell_type": "code",
   "execution_count": 1,
   "metadata": {},
   "outputs": [],
   "source": [
    "from bs4 import BeautifulSoup\n",
    "from selenium import webdriver\n",
    "from selenium.webdriver.common.by import By\n",
    "from selenium.webdriver.support.ui import WebDriverWait\n",
    "from selenium.webdriver.chrome.service import Service\n",
    "from selenium_stealth import stealth"
   ]
  },
  {
   "cell_type": "code",
   "execution_count": 2,
   "metadata": {},
   "outputs": [],
   "source": [
    "import time\n",
    "from numpy import random"
   ]
  },
  {
   "cell_type": "code",
   "execution_count": 3,
   "metadata": {},
   "outputs": [],
   "source": [
    "CHROMEDRIVER_PATH = \"/executables/chromedriver.exe\"\n",
    "STACKOVERFLOW_LOGIN_URL = \"https://stackoverflow.com/users/login\""
   ]
  },
  {
   "cell_type": "code",
   "execution_count": 4,
   "metadata": {},
   "outputs": [],
   "source": [
    "def sleeprandom(minimum=0.5, maximum=1):\n",
    "    st = random.rand() * (maximum - minimum) + minimum\n",
    "    time.sleep(st)"
   ]
  },
  {
   "cell_type": "code",
   "execution_count": 5,
   "metadata": {},
   "outputs": [],
   "source": [
    "class Webdriver_Handler:\n",
    "    def __init__(self):\n",
    "        options = webdriver.ChromeOptions()\n",
    "        options.add_argument('disable-infobars')\n",
    "        options.add_experimental_option('useAutomationExtension', False)\n",
    "\n",
    "        self.timeout = 10       \n",
    "\n",
    "        service = Service(executable_path=CHROMEDRIVER_PATH)\n",
    "        self.wd = webdriver.Chrome(service=service, options=options)\n",
    "        \n",
    "        self.wd.implicitly_wait(self.timeout)\n",
    "\n",
    "        stealth(\n",
    "            self.wd,\n",
    "            languages=[\"en-US\", \"en\"],\n",
    "            vendor=\"Google Inc.\",\n",
    "            platform=\"Win32\",\n",
    "            webgl_vendor=\"Intel Inc.\",\n",
    "            renderer=\"Intel Iris OpenGL Engine\",\n",
    "            fix_hairline=True,\n",
    "        )\n",
    "    \n",
    "    def login(self, username, password):\n",
    "        self.wd.get(STACKOVERFLOW_LOGIN_URL)\n",
    "        sleeprandom()\n",
    "        self.try_disabling_cookies()\n",
    "        sleeprandom()\n",
    "        self.wd.find_element(By.ID, \"email\").send_keys(username)\n",
    "        sleeprandom()\n",
    "        self.wd.find_element(By.ID, \"password\").send_keys(password)\n",
    "        sleeprandom()\n",
    "        self.wd.find_element(By.ID, \"submit-button\").click()\n",
    "        sleeprandom()\n",
    "    \n",
    "    def try_disabling_cookies(self):\n",
    "        try:\n",
    "            self.wd.find_element(By.XPATH, \"\"\"//button[contains(text(), \"Necessary cookies only\")]\"\"\").click()\n",
    "            return True\n",
    "        except:\n",
    "            return False\n",
    "    \n",
    "    def is_logged_in(self):\n",
    "        try: \n",
    "            username = self.wd.find_element(By.XPATH, \"\"\"//a[@class=\"s-topbar--item s-user-card s-user-card__small m0 px12 js-gps-track\"]/span\"\"\").text\n",
    "            reputation = self.wd.find_element(By.XPATH,\"\"\"//li[contains(@title, \"reputation\")]\"\"\").text.split(\"\\n\")[0].replace(\" \",\"\")\n",
    "            print(f\"Logged in as {username} with {reputation} reputation\")\n",
    "            return True\n",
    "        except:\n",
    "            print(\"Not logged in\")\n",
    "            return False\n",
    "    \n",
    "    def upvote_questions(self, num_upvotes=3):\n",
    "        self.wd.get(\"https://stackoverflow.com/questions/tagged/python\")\n",
    "        question_links = [a.get_attribute(\"href\") for a in self.wd.find_elements(By.XPATH, \"\"\"//div[@id=\"questions\"]/div/div/h3/a\"\"\")]\n",
    "        print(question_links)\n",
    "        sleeprandom()\n",
    "\n",
    "        upvotes_given = 0\n",
    "        for question_link in question_links:\n",
    "            self.wd.get(question_link)\n",
    "            sleeprandom()\n",
    "            vote_count = int(self.wd.find_element(By.XPATH, \"\"\"//div[@id=\"question\"]/div/div/div/div[contains(@class,\"vote-count\")]\"\"\").text.replace(\" \",\"\"))\n",
    "            if vote_count < 0:\n",
    "                print(\"Skipping question with negative votes\")\n",
    "                continue\n",
    "\n",
    "            upvote_button = self.wd.find_element(By.XPATH, \"\"\"//div[@id=\"question\"]/div/div/div/button[contains(@class,\"vote-up\")]\"\"\")\n",
    "\n",
    "            if upvote_button.get_attribute(\"aria-pressed\") == \"false\":\n",
    "                upvote_button.click()\n",
    "                upvotes_given += 1\n",
    "                print(f\"Upvoted {question_link}\")\n",
    "                sleeprandom()\n",
    "            else:\n",
    "                print(\"Already upvoted\")\n",
    "            \n",
    "            if upvotes_given >= num_upvotes:\n",
    "                break\n",
    "        \n",
    "        print(f\"Upvoted {upvotes_given} questions\")\n",
    "        \n",
    "            \n",
    "\n",
    "\n",
    "\n"
   ]
  }
 ],
 "metadata": {
  "kernelspec": {
   "display_name": "Python 3",
   "language": "python",
   "name": "python3"
  },
  "language_info": {
   "codemirror_mode": {
    "name": "ipython",
    "version": 3
   },
   "file_extension": ".py",
   "mimetype": "text/x-python",
   "name": "python",
   "nbconvert_exporter": "python",
   "pygments_lexer": "ipython3",
   "version": "3.11.3"
  },
  "orig_nbformat": 4
 },
 "nbformat": 4,
 "nbformat_minor": 2
}
