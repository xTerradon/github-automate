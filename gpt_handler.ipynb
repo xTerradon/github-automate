{
 "cells": [
  {
   "cell_type": "code",
   "execution_count": 5,
   "metadata": {},
   "outputs": [],
   "source": [
    "import os\n",
    "import openai\n",
    "import json"
   ]
  },
  {
   "cell_type": "code",
   "execution_count": 49,
   "metadata": {},
   "outputs": [],
   "source": [
    "openai_api_key = os.getenv(\"OPENAI_API_KEY\")\n",
    "if openai == None:\n",
    "    print(\"OPENAI_API_KEY environment variable not set\")\n",
    "    openai_api_key = input(\"Enter your API key: \")\n",
    "openai.api_key = openai_api_key"
   ]
  },
  {
   "cell_type": "code",
   "execution_count": 51,
   "metadata": {},
   "outputs": [
    {
     "name": "stdout",
     "output_type": "stream",
     "text": [
      "['whisper-1', 'babbage', 'davinci', 'text-davinci-edit-001', 'babbage-code-search-code', 'text-similarity-babbage-001', 'code-davinci-edit-001', 'text-davinci-001', 'ada', 'babbage-code-search-text', 'babbage-similarity', 'code-search-babbage-text-001', 'text-curie-001', 'gpt-3.5-turbo-16k-0613', 'code-search-babbage-code-001', 'text-ada-001', 'text-similarity-ada-001', 'curie-instruct-beta', 'gpt-3.5-turbo-0301', 'ada-code-search-code', 'ada-similarity', 'code-search-ada-text-001', 'text-search-ada-query-001', 'davinci-search-document', 'ada-code-search-text', 'text-search-ada-doc-001', 'davinci-instruct-beta', 'text-similarity-curie-001', 'code-search-ada-code-001', 'ada-search-query', 'text-search-davinci-query-001', 'curie-search-query', 'davinci-search-query', 'babbage-search-document', 'ada-search-document', 'text-search-curie-query-001', 'gpt-3.5-turbo', 'text-search-babbage-doc-001', 'gpt-3.5-turbo-0613', 'curie-search-document', 'text-search-curie-doc-001', 'babbage-search-query', 'text-babbage-001', 'text-search-davinci-doc-001', 'text-embedding-ada-002', 'text-search-babbage-query-001', 'curie-similarity', 'curie', 'text-similarity-davinci-001', 'text-davinci-002', 'text-davinci-003', 'davinci-similarity', 'gpt-3.5-turbo-16k']\n"
     ]
    }
   ],
   "source": [
    "model_list = openai.Model.list()\n",
    "print([m[\"id\"] for m in dict(model_list)[\"data\"]])\n",
    "standard_model = \"text-davinci-003\""
   ]
  },
  {
   "cell_type": "code",
   "execution_count": 58,
   "metadata": {},
   "outputs": [],
   "source": [
    "response = openai.Completion.create(\n",
    "    model=standard_model, \n",
    "    prompt=\"Question: \\\"Say OK if you understand.\\\"\\nAnswer: \\\"\", \n",
    "    max_tokens=3,\n",
    "    stop=[\"\\\"\"])"
   ]
  },
  {
   "cell_type": "code",
   "execution_count": 59,
   "metadata": {},
   "outputs": [
    {
     "name": "stdout",
     "output_type": "stream",
     "text": [
      "OK.\n"
     ]
    }
   ],
   "source": [
    "print(response[\"choices\"][0][\"text\"])"
   ]
  },
  {
   "cell_type": "code",
   "execution_count": 63,
   "metadata": {},
   "outputs": [],
   "source": [
    "def ask_for_stackoverflow_answer(stackoverflow_question):\n",
    "    response = openai.Completion.create(\n",
    "        model=standard_model, \n",
    "        prompt=\"Question on StackOverflow: \\\"\" + stackoverflow_question + \n",
    "                \"\\\"\\nGive a short and concise answer, including code snippets only if necessary. Answer in typical StackOverflow manner and the required markdown: \\\"\",\n",
    "        max_tokens=1000,\n",
    "        stop=[\"\\\"\"])\n",
    "\n",
    "    print(response[\"choices\"][0][\"text\"])"
   ]
  },
  {
   "cell_type": "code",
   "execution_count": 64,
   "metadata": {},
   "outputs": [
    {
     "name": "stdout",
     "output_type": "stream",
     "text": [
      "\n",
      "\n",
      "The simplest way to get the current date is to use the [`datetime` module](https://docs.python.org/3/library/datetime.html) in Python's standard library:\n",
      "\n",
      "```\n",
      "import datetime\n",
      "\n",
      "today = datetime.date.today()\n",
      "print(today)\n",
      "```\n",
      "\n",
      "Note that you will get a datetime.date object, which holds the date but not the time.\n"
     ]
    }
   ],
   "source": [
    "ask_for_stackoverflow_answer(\"How do I get the current date in Python?\")"
   ]
  }
 ],
 "metadata": {
  "kernelspec": {
   "display_name": "Python 3",
   "language": "python",
   "name": "python3"
  },
  "language_info": {
   "codemirror_mode": {
    "name": "ipython",
    "version": 3
   },
   "file_extension": ".py",
   "mimetype": "text/x-python",
   "name": "python",
   "nbconvert_exporter": "python",
   "pygments_lexer": "ipython3",
   "version": "3.11.3"
  },
  "orig_nbformat": 4
 },
 "nbformat": 4,
 "nbformat_minor": 2
}
