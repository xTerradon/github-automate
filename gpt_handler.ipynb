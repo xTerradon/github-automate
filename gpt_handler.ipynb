{
 "cells": [
  {
   "cell_type": "code",
   "execution_count": 2,
   "metadata": {},
   "outputs": [],
   "source": [
    "import os\n",
    "import openai\n",
    "import json"
   ]
  },
  {
   "cell_type": "code",
   "execution_count": 3,
   "metadata": {},
   "outputs": [],
   "source": [
    "openai_api_key = os.getenv(\"OPENAI_API_KEY\")\n",
    "if openai == None:\n",
    "    print(\"OPENAI_API_KEY environment variable not set\")\n",
    "    openai_api_key = input(\"Enter your API key: \")\n",
    "openai.api_key = openai_api_key"
   ]
  },
  {
   "cell_type": "code",
   "execution_count": null,
   "metadata": {},
   "outputs": [],
   "source": [
    "model_list = openai.Model.list()\n",
    "print([m[\"id\"] for m in dict(model_list)[\"data\"]])\n",
    "standard_model = \"text-davinci-003\""
   ]
  },
  {
   "cell_type": "code",
   "execution_count": null,
   "metadata": {},
   "outputs": [],
   "source": [
    "test_response = openai.Completion.create(\n",
    "    model=standard_model, \n",
    "    prompt=\"Question: \\\"Say OK if you understand.\\\"\\nAnswer: \\\"\", \n",
    "    max_tokens=3,\n",
    "    stop=[\"\\\"\"])"
   ]
  },
  {
   "cell_type": "code",
   "execution_count": null,
   "metadata": {},
   "outputs": [],
   "source": [
    "print(test_response[\"choices\"][0][\"text\"])"
   ]
  },
  {
   "cell_type": "code",
   "execution_count": null,
   "metadata": {},
   "outputs": [],
   "source": [
    "def ask_for_stackoverflow_answer(question_title, question_body):\n",
    "    prompt = f\"\"\"QUESTION TITLE: {question_title}\\nQUESTION BODY:{question_body}\\n\\nANSWER:\"\"\"\n",
    "    print(prompt)\n",
    "    response = openai.ChatCompletion.create(\n",
    "        model=\"gpt-3.5-turbo\",\n",
    "        messages=[\n",
    "            {\"role\": \"system\", \"content\": \"You are a helpful StackOverflow user answering questions using the StackOverflow formatting rules:\\n**bold**\\n*italics*\\n`code`\"},\n",
    "            {\"role\": \"user\", \"content\": prompt}\n",
    "        ],\n",
    "        max_tokens=1000\n",
    "    )\n",
    "\n",
    "    return response.choices[0].message.content"
   ]
  },
  {
   "cell_type": "code",
   "execution_count": 5,
   "metadata": {},
   "outputs": [],
   "source": [
    "def ask_for_stackoverflow_edit(question_title, question_body):\n",
    "    prompt = f\"\"\"QUESTION TITLE: {question_title}\\nQUESTION BODY:{question_body}\\n\\nEDITED TITLE:\"\"\"\n",
    "    print(prompt)\n",
    "    response = openai.ChatCompletion.create(\n",
    "        model=\"gpt-3.5-turbo\",\n",
    "        messages=[\n",
    "            {\"role\": \"system\", \"content\": \"You are a helpful StackOverflow admin. You will edit questions according to the StackOverflow rules of conduct.\"},\n",
    "            {\"role\": \"user\", \"content\": prompt}\n",
    "        ],\n",
    "        max_tokens=1000\n",
    "    )\n",
    "\n",
    "    edited_title = response.choices[0].message.content.split(\"EDITED BODY:\")[0]\n",
    "    edited_body = response.choices[0].message.content.split(\"EDITED BODY:\")[1]\n",
    "    return edited_title, edited_body"
   ]
  },
  {
   "cell_type": "code",
   "execution_count": null,
   "metadata": {},
   "outputs": [],
   "source": [
    "def ask_for_stackoverflow_answer_completion(question_title, question_body):\n",
    "    prompt = f\"\"\"Question on StackOverflow titled \\\"{question_title}\\\":\\n{question_body}\\n\\n\"\"\" + \"\"\"A short and consice answer in typical StackOverflow manner, using the required formatting for code snippets for StackOverflow answers:\\n\"\"\"\n",
    "    print(prompt)\n",
    "    response = openai.Completion.create(\n",
    "        model=standard_model, \n",
    "        prompt=prompt,\n",
    "        max_tokens=1000)\n",
    "\n",
    "    return response[\"choices\"][0][\"text\"]"
   ]
  },
  {
   "cell_type": "code",
   "execution_count": 6,
   "metadata": {},
   "outputs": [
    {
     "name": "stdout",
     "output_type": "stream",
     "text": [
      "QUESTION TITLE: I want to get the current date in Python\n",
      "QUESTION BODY:I have a Python script and I want to display today's date in YYYY-MM-DD format. How can I do that?\n",
      "\n",
      "EDITED TITLE:\n",
      "How to get the current date in YYYY-MM-DD format using Python?\n",
      "EDITED BODY: I am looking for a way to display the current date in the format of YYYY-MM-DD using Python. What would be the best way to achieve this?\n"
     ]
    }
   ],
   "source": [
    "answer = ask_for_stackoverflow_edit(\"I want to get the current date in Python\",\"I have a Python script and I want to display today's date in YYYY-MM-DD format. How can I do that?\")\n",
    "print(answer)\n",
    "\n"
   ]
  }
 ],
 "metadata": {
  "kernelspec": {
   "display_name": "Python 3",
   "language": "python",
   "name": "python3"
  },
  "language_info": {
   "codemirror_mode": {
    "name": "ipython",
    "version": 3
   },
   "file_extension": ".py",
   "mimetype": "text/x-python",
   "name": "python",
   "nbconvert_exporter": "python",
   "pygments_lexer": "ipython3",
   "version": "3.11.3"
  },
  "orig_nbformat": 4
 },
 "nbformat": 4,
 "nbformat_minor": 2
}
