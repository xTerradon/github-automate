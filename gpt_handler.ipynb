{
 "cells": [
  {
   "cell_type": "code",
   "execution_count": null,
   "metadata": {},
   "outputs": [],
   "source": [
    "import os\n",
    "import openai\n",
    "import json"
   ]
  },
  {
   "cell_type": "code",
   "execution_count": null,
   "metadata": {},
   "outputs": [],
   "source": [
    "openai_api_key = os.getenv(\"OPENAI_API_KEY\")\n",
    "if openai == None:\n",
    "    print(\"OPENAI_API_KEY environment variable not set\")\n",
    "    openai_api_key = input(\"Enter your API key: \")\n",
    "openai.api_key = openai_api_key"
   ]
  },
  {
   "cell_type": "code",
   "execution_count": null,
   "metadata": {},
   "outputs": [],
   "source": [
    "model_list = openai.Model.list()\n",
    "print([m[\"id\"] for m in dict(model_list)[\"data\"]])\n",
    "standard_model = \"text-davinci-003\""
   ]
  },
  {
   "cell_type": "code",
   "execution_count": null,
   "metadata": {},
   "outputs": [],
   "source": [
    "test_response = openai.Completion.create(\n",
    "    model=standard_model, \n",
    "    prompt=\"Question: \\\"Say OK if you understand.\\\"\\nAnswer: \\\"\", \n",
    "    max_tokens=3,\n",
    "    stop=[\"\\\"\"])"
   ]
  },
  {
   "cell_type": "code",
   "execution_count": null,
   "metadata": {},
   "outputs": [],
   "source": [
    "print(test_response[\"choices\"][0][\"text\"])"
   ]
  },
  {
   "cell_type": "code",
   "execution_count": null,
   "metadata": {},
   "outputs": [],
   "source": [
    "def ask_for_stackoverflow_answer(question_title, question_body):\n",
    "    prompt = f\"\"\"QUESTION TITLE: {question_title}\\nQUESTION BODY:{question_body}\\n\\nANSWER:\"\"\"\n",
    "    print(prompt)\n",
    "    response = openai.ChatCompletion.create(\n",
    "        model=\"gpt-3.5-turbo\",\n",
    "        messages=[\n",
    "            {\"role\": \"system\", \"content\": \"You are a helpful StackOverflow user answering questions using the StackOverflow formatting rules:\\n**bold**\\n*italics*\\n`code`\"},\n",
    "            {\"role\": \"user\", \"content\": prompt}\n",
    "        ],\n",
    "        max_tokens=1000\n",
    "    )\n",
    "\n",
    "    return response.choices[0].message.content"
   ]
  },
  {
   "cell_type": "code",
   "execution_count": null,
   "metadata": {},
   "outputs": [],
   "source": [
    "def ask_for_stackoverflow_edit(question_title, question_body):\n",
    "    prompt = f\"\"\"QUESTION_TITLE: {question_title}\\nQUESTION_BODY: {question_body}\"\"\"\n",
    "    print(prompt)\n",
    "    response = openai.ChatCompletion.create(\n",
    "        model=\"gpt-3.5-turbo\",\n",
    "        messages=[\n",
    "            {\"role\": \"user\", \"content\": \"You are a helpful StackOverflow admin that edits StackOverflow questions. You are given a question with title (QUESTION_TITLE) and a text body (QUESTION_BODY). \\\n",
    "                You must edit the QUESTION_TITLE to be a question from the narrative perspective (called EDITED_TITLE). You must edit the QUESTION_BODY to fit the StackOverflow style (called EDITED_BODY). You can use the following formatting rules:\\n**bold**\\n*italics*\\n`code`\"},\n",
    "            {\"role\": \"user\", \"content\": prompt}\n",
    "        ],\n",
    "        max_tokens=1000\n",
    "    )\n",
    "\n",
    "    if \"EDITED_BODY:\" in response.choices[0].message.content:\n",
    "        edited_title = response.choices[0].message.content.split(\"EDITED_BODY:\")[0].split(\"EDITED_TITLE:\")[1]\n",
    "        edited_body = response.choices[0].message.content.split(\"EDITED_BODY:\")[1]\n",
    "    else:\n",
    "        print(response.choices[0].message.content)\n",
    "        raise ValueError(\"Response does not contain EDITED_BODY\")\n",
    "    return edited_title, edited_body"
   ]
  },
  {
   "cell_type": "code",
   "execution_count": null,
   "metadata": {},
   "outputs": [],
   "source": [
    "def ask_for_stackoverflow_answer_completion(question_title, question_body):\n",
    "    prompt = f\"\"\"Question on StackOverflow titled \\\"{question_title}\\\":\\n{question_body}\\n\\n\"\"\" + \"\"\"A short and consice answer in typical StackOverflow manner, using the required formatting for code snippets for StackOverflow answers:\\n\"\"\"\n",
    "    print(prompt)\n",
    "    response = openai.Completion.create(\n",
    "        model=standard_model, \n",
    "        prompt=prompt,\n",
    "        max_tokens=1000)\n",
    "\n",
    "    return response[\"choices\"][0][\"text\"]"
   ]
  },
  {
   "cell_type": "code",
   "execution_count": null,
   "metadata": {},
   "outputs": [],
   "source": [
    "# answer = ask_for_stackoverflow_edit(\"I want to get the current date in Python\",\"I have a Python script and I want to display today's date in YYYY-MM-DD format. I tried using datetime but it did not work... How to do it?\")\n",
    "# print(answer)\n",
    "\n"
   ]
  }
 ],
 "metadata": {
  "kernelspec": {
   "display_name": "Python 3",
   "language": "python",
   "name": "python3"
  },
  "language_info": {
   "codemirror_mode": {
    "name": "ipython",
    "version": 3
   },
   "file_extension": ".py",
   "mimetype": "text/x-python",
   "name": "python",
   "nbconvert_exporter": "python",
   "pygments_lexer": "ipython3",
   "version": "3.11.3"
  },
  "orig_nbformat": 4
 },
 "nbformat": 4,
 "nbformat_minor": 2
}
